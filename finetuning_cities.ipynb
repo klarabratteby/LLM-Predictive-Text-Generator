{
 "cells": [
  {
   "cell_type": "code",
   "execution_count": 1,
   "id": "840063a1-99f4-476f-bb94-e51220362b33",
   "metadata": {},
   "outputs": [
    {
     "name": "stdout",
     "output_type": "stream",
     "text": [
      "Requirement already satisfied: torch in ./gpt2_env/lib/python3.10/site-packages (2.4.1)\n",
      "Requirement already satisfied: transformers in ./gpt2_env/lib/python3.10/site-packages (4.45.2)\n",
      "Requirement already satisfied: filelock in ./gpt2_env/lib/python3.10/site-packages (from torch) (3.16.1)\n",
      "Requirement already satisfied: typing-extensions>=4.8.0 in ./gpt2_env/lib/python3.10/site-packages (from torch) (4.12.2)\n",
      "Requirement already satisfied: sympy in ./gpt2_env/lib/python3.10/site-packages (from torch) (1.13.3)\n",
      "Requirement already satisfied: networkx in ./gpt2_env/lib/python3.10/site-packages (from torch) (3.3)\n",
      "Requirement already satisfied: jinja2 in ./gpt2_env/lib/python3.10/site-packages (from torch) (3.1.4)\n",
      "Requirement already satisfied: fsspec in ./gpt2_env/lib/python3.10/site-packages (from torch) (2024.6.1)\n",
      "Requirement already satisfied: huggingface-hub<1.0,>=0.23.2 in ./gpt2_env/lib/python3.10/site-packages (from transformers) (0.25.1)\n",
      "Requirement already satisfied: numpy>=1.17 in ./gpt2_env/lib/python3.10/site-packages (from transformers) (2.1.1)\n",
      "Requirement already satisfied: packaging>=20.0 in ./gpt2_env/lib/python3.10/site-packages (from transformers) (24.1)\n",
      "Requirement already satisfied: pyyaml>=5.1 in ./gpt2_env/lib/python3.10/site-packages (from transformers) (6.0.2)\n",
      "Requirement already satisfied: regex!=2019.12.17 in ./gpt2_env/lib/python3.10/site-packages (from transformers) (2024.9.11)\n",
      "Requirement already satisfied: requests in ./gpt2_env/lib/python3.10/site-packages (from transformers) (2.32.3)\n",
      "Requirement already satisfied: safetensors>=0.4.1 in ./gpt2_env/lib/python3.10/site-packages (from transformers) (0.4.5)\n",
      "Requirement already satisfied: tokenizers<0.21,>=0.20 in ./gpt2_env/lib/python3.10/site-packages (from transformers) (0.20.0)\n",
      "Requirement already satisfied: tqdm>=4.27 in ./gpt2_env/lib/python3.10/site-packages (from transformers) (4.66.5)\n",
      "Requirement already satisfied: MarkupSafe>=2.0 in ./gpt2_env/lib/python3.10/site-packages (from jinja2->torch) (2.1.5)\n",
      "Requirement already satisfied: charset-normalizer<4,>=2 in ./gpt2_env/lib/python3.10/site-packages (from requests->transformers) (3.3.2)\n",
      "Requirement already satisfied: idna<4,>=2.5 in ./gpt2_env/lib/python3.10/site-packages (from requests->transformers) (2.10)\n",
      "Requirement already satisfied: urllib3<3,>=1.21.1 in ./gpt2_env/lib/python3.10/site-packages (from requests->transformers) (2.2.3)\n",
      "Requirement already satisfied: certifi>=2017.4.17 in ./gpt2_env/lib/python3.10/site-packages (from requests->transformers) (2024.8.30)\n",
      "Requirement already satisfied: mpmath<1.4,>=1.1.0 in ./gpt2_env/lib/python3.10/site-packages (from sympy->torch) (1.3.0)\n",
      "Requirement already satisfied: datasets in ./gpt2_env/lib/python3.10/site-packages (3.0.1)\n",
      "Requirement already satisfied: transformers in ./gpt2_env/lib/python3.10/site-packages (4.45.2)\n",
      "Requirement already satisfied: accelerate in ./gpt2_env/lib/python3.10/site-packages (0.34.2)\n",
      "Requirement already satisfied: filelock in ./gpt2_env/lib/python3.10/site-packages (from datasets) (3.16.1)\n",
      "Requirement already satisfied: numpy>=1.17 in ./gpt2_env/lib/python3.10/site-packages (from datasets) (2.1.1)\n",
      "Requirement already satisfied: pyarrow>=15.0.0 in ./gpt2_env/lib/python3.10/site-packages (from datasets) (17.0.0)\n",
      "Requirement already satisfied: dill<0.3.9,>=0.3.0 in ./gpt2_env/lib/python3.10/site-packages (from datasets) (0.3.8)\n",
      "Requirement already satisfied: pandas in ./gpt2_env/lib/python3.10/site-packages (from datasets) (2.2.3)\n",
      "Requirement already satisfied: requests>=2.32.2 in ./gpt2_env/lib/python3.10/site-packages (from datasets) (2.32.3)\n",
      "Requirement already satisfied: tqdm>=4.66.3 in ./gpt2_env/lib/python3.10/site-packages (from datasets) (4.66.5)\n",
      "Requirement already satisfied: xxhash in ./gpt2_env/lib/python3.10/site-packages (from datasets) (3.5.0)\n",
      "Requirement already satisfied: multiprocess in ./gpt2_env/lib/python3.10/site-packages (from datasets) (0.70.16)\n",
      "Requirement already satisfied: fsspec<=2024.6.1,>=2023.1.0 in ./gpt2_env/lib/python3.10/site-packages (from fsspec[http]<=2024.6.1,>=2023.1.0->datasets) (2024.6.1)\n",
      "Requirement already satisfied: aiohttp in ./gpt2_env/lib/python3.10/site-packages (from datasets) (3.10.8)\n",
      "Requirement already satisfied: huggingface-hub>=0.22.0 in ./gpt2_env/lib/python3.10/site-packages (from datasets) (0.25.1)\n",
      "Requirement already satisfied: packaging in ./gpt2_env/lib/python3.10/site-packages (from datasets) (24.1)\n",
      "Requirement already satisfied: pyyaml>=5.1 in ./gpt2_env/lib/python3.10/site-packages (from datasets) (6.0.2)\n",
      "Requirement already satisfied: regex!=2019.12.17 in ./gpt2_env/lib/python3.10/site-packages (from transformers) (2024.9.11)\n",
      "Requirement already satisfied: safetensors>=0.4.1 in ./gpt2_env/lib/python3.10/site-packages (from transformers) (0.4.5)\n",
      "Requirement already satisfied: tokenizers<0.21,>=0.20 in ./gpt2_env/lib/python3.10/site-packages (from transformers) (0.20.0)\n",
      "Requirement already satisfied: psutil in ./gpt2_env/lib/python3.10/site-packages (from accelerate) (6.0.0)\n",
      "Requirement already satisfied: torch>=1.10.0 in ./gpt2_env/lib/python3.10/site-packages (from accelerate) (2.4.1)\n",
      "Requirement already satisfied: aiohappyeyeballs>=2.3.0 in ./gpt2_env/lib/python3.10/site-packages (from aiohttp->datasets) (2.4.3)\n",
      "Requirement already satisfied: aiosignal>=1.1.2 in ./gpt2_env/lib/python3.10/site-packages (from aiohttp->datasets) (1.3.1)\n",
      "Requirement already satisfied: attrs>=17.3.0 in ./gpt2_env/lib/python3.10/site-packages (from aiohttp->datasets) (24.2.0)\n",
      "Requirement already satisfied: frozenlist>=1.1.1 in ./gpt2_env/lib/python3.10/site-packages (from aiohttp->datasets) (1.4.1)\n",
      "Requirement already satisfied: multidict<7.0,>=4.5 in ./gpt2_env/lib/python3.10/site-packages (from aiohttp->datasets) (6.1.0)\n",
      "Requirement already satisfied: yarl<2.0,>=1.12.0 in ./gpt2_env/lib/python3.10/site-packages (from aiohttp->datasets) (1.13.1)\n",
      "Requirement already satisfied: async-timeout<5.0,>=4.0 in ./gpt2_env/lib/python3.10/site-packages (from aiohttp->datasets) (4.0.3)\n",
      "Requirement already satisfied: typing-extensions>=3.7.4.3 in ./gpt2_env/lib/python3.10/site-packages (from huggingface-hub>=0.22.0->datasets) (4.12.2)\n",
      "Requirement already satisfied: charset-normalizer<4,>=2 in ./gpt2_env/lib/python3.10/site-packages (from requests>=2.32.2->datasets) (3.3.2)\n",
      "Requirement already satisfied: idna<4,>=2.5 in ./gpt2_env/lib/python3.10/site-packages (from requests>=2.32.2->datasets) (2.10)\n",
      "Requirement already satisfied: urllib3<3,>=1.21.1 in ./gpt2_env/lib/python3.10/site-packages (from requests>=2.32.2->datasets) (2.2.3)\n",
      "Requirement already satisfied: certifi>=2017.4.17 in ./gpt2_env/lib/python3.10/site-packages (from requests>=2.32.2->datasets) (2024.8.30)\n",
      "Requirement already satisfied: sympy in ./gpt2_env/lib/python3.10/site-packages (from torch>=1.10.0->accelerate) (1.13.3)\n",
      "Requirement already satisfied: networkx in ./gpt2_env/lib/python3.10/site-packages (from torch>=1.10.0->accelerate) (3.3)\n",
      "Requirement already satisfied: jinja2 in ./gpt2_env/lib/python3.10/site-packages (from torch>=1.10.0->accelerate) (3.1.4)\n",
      "Requirement already satisfied: python-dateutil>=2.8.2 in ./gpt2_env/lib/python3.10/site-packages (from pandas->datasets) (2.9.0.post0)\n",
      "Requirement already satisfied: pytz>=2020.1 in ./gpt2_env/lib/python3.10/site-packages (from pandas->datasets) (2024.2)\n",
      "Requirement already satisfied: tzdata>=2022.7 in ./gpt2_env/lib/python3.10/site-packages (from pandas->datasets) (2024.2)\n",
      "Requirement already satisfied: six>=1.5 in ./gpt2_env/lib/python3.10/site-packages (from python-dateutil>=2.8.2->pandas->datasets) (1.16.0)\n",
      "Requirement already satisfied: MarkupSafe>=2.0 in ./gpt2_env/lib/python3.10/site-packages (from jinja2->torch>=1.10.0->accelerate) (2.1.5)\n",
      "Requirement already satisfied: mpmath<1.4,>=1.1.0 in ./gpt2_env/lib/python3.10/site-packages (from sympy->torch>=1.10.0->accelerate) (1.3.0)\n"
     ]
    }
   ],
   "source": [
    "!pip install --upgrade torch transformers\n",
    "!pip install datasets transformers accelerate"
   ]
  },
  {
   "cell_type": "code",
   "execution_count": 3,
   "id": "376bf0b8-9ff0-4cb2-b1f6-0ee3cf3c4dbc",
   "metadata": {},
   "outputs": [
    {
     "data": {
      "text/plain": [
       "DatasetDict({\n",
       "    train: Dataset({\n",
       "        features: ['city', 'city_ascii', 'lat', 'lng', 'country', 'iso2', 'iso3', 'admin_name', 'capital', 'population', 'id'],\n",
       "        num_rows: 47868\n",
       "    })\n",
       "})"
      ]
     },
     "execution_count": 3,
     "metadata": {},
     "output_type": "execute_result"
    }
   ],
   "source": [
    "#load the dataset\n",
    "from datasets import load_dataset\n",
    "\n",
    "# Load your CSV dataset\n",
    "level_data = load_dataset(\"csv\", data_files=\"dataset/easy_advanced_cities.csv\")\n",
    "level_data\n",
    "cities_data = load_dataset(\"csv\", data_files=\"dataset/worldcities.csv\")\n",
    "cities_data"
   ]
  },
  {
   "cell_type": "code",
   "execution_count": 6,
   "id": "080aaa75-a5f2-4c5a-aac4-4e836c18f10c",
   "metadata": {},
   "outputs": [],
   "source": [
    "from transformers import GPT2Tokenizer\n",
    "\n",
    "# Load GPT-2 tokenizer\n",
    "tokenizer = GPT2Tokenizer.from_pretrained('gpt2')\n",
    "tokenizer.pad_token = tokenizer.eos_token\n",
    "\n",
    "# Tokenization function to process both Hard and Easy clues\n",
    "def tokenize_function(examples):\n",
    "    # Concatenate City, Hard, and Easy into a single string for tokenization\n",
    "    input_texts = [\n",
    "        f\"City: {examples['City'][i]} | Hard: {examples['Hard'][i]} | Easy: {examples['Easy'][i]}\"\n",
    "        for i in range(len(examples['City']))\n",
    "    ]\n",
    "    \n",
    "    # Tokenize the combined input texts\n",
    "    return tokenizer(input_texts, truncation=True, padding='max_length', max_length=512)\n",
    "\n",
    "# Apply tokenization to the dataset\n",
    "tokenized_datasets = level_data.map(tokenize_function, batched=True)"
   ]
  },
  {
   "cell_type": "code",
   "execution_count": 7,
   "id": "46a22386-c137-4a1e-bd17-77bdfb9b19f2",
   "metadata": {},
   "outputs": [],
   "source": [
    "#Prepare the Dataset for Training\n",
    "from datasets import DatasetDict\n",
    "\n",
    "# Split into training and validation sets (80% train, 20% validation)\n",
    "train_size = int(0.8 * len(tokenized_datasets['train']))\n",
    "train_dataset = tokenized_datasets['train'].select(range(train_size))\n",
    "eval_dataset = tokenized_datasets['train'].select(range(train_size, len(tokenized_datasets['train'])))\n",
    "\n",
    "datasets = DatasetDict({\"train\": train_dataset, \"validation\": eval_dataset})"
   ]
  },
  {
   "cell_type": "code",
   "execution_count": 8,
   "id": "6f604287-bd1f-4150-b7b4-e36b8db63fbb",
   "metadata": {},
   "outputs": [],
   "source": [
    "#Define the Data Collator\n",
    "from transformers import DataCollatorForLanguageModeling\n",
    "\n",
    "data_collator = DataCollatorForLanguageModeling(tokenizer=tokenizer, mlm=False)  # GPT-2 is not a masked LM"
   ]
  },
  {
   "cell_type": "code",
   "execution_count": 9,
   "id": "b669a594-b82c-4da4-85d9-fca9c57dc309",
   "metadata": {},
   "outputs": [],
   "source": [
    "#load the gpt2 model\n",
    "from transformers import GPT2LMHeadModel\n",
    "\n",
    "model = GPT2LMHeadModel.from_pretrained('gpt2')"
   ]
  },
  {
   "cell_type": "code",
   "execution_count": 13,
   "id": "4c788916-df9a-4880-a8b3-e775dc80482d",
   "metadata": {},
   "outputs": [
    {
     "data": {
      "text/html": [
       "\n",
       "    <div>\n",
       "      \n",
       "      <progress value='30' max='30' style='width:300px; height:20px; vertical-align: middle;'></progress>\n",
       "      [30/30 01:03, Epoch 3/3]\n",
       "    </div>\n",
       "    <table border=\"1\" class=\"dataframe\">\n",
       "  <thead>\n",
       " <tr style=\"text-align: left;\">\n",
       "      <th>Step</th>\n",
       "      <th>Training Loss</th>\n",
       "    </tr>\n",
       "  </thead>\n",
       "  <tbody>\n",
       "  </tbody>\n",
       "</table><p>"
      ],
      "text/plain": [
       "<IPython.core.display.HTML object>"
      ]
     },
     "metadata": {},
     "output_type": "display_data"
    },
    {
     "data": {
      "text/plain": [
       "('./fine_tuned_model/tokenizer_config.json',\n",
       " './fine_tuned_model/special_tokens_map.json',\n",
       " './fine_tuned_model/vocab.json',\n",
       " './fine_tuned_model/merges.txt',\n",
       " './fine_tuned_model/added_tokens.json')"
      ]
     },
     "execution_count": 13,
     "metadata": {},
     "output_type": "execute_result"
    }
   ],
   "source": [
    "#Training Arguments\n",
    "from transformers import TrainingArguments\n",
    "\n",
    "training_args = TrainingArguments(\n",
    "    output_dir=\"./results\",\n",
    "    overwrite_output_dir=True,\n",
    "    num_train_epochs=3,\n",
    "    per_device_train_batch_size=4,\n",
    "    per_device_eval_batch_size=4,\n",
    "    eval_steps=500,\n",
    "    save_steps=500,\n",
    "    warmup_steps=500,\n",
    "    weight_decay=0.01,\n",
    "    logging_dir=\"./logs\",\n",
    "    logging_steps=250,\n",
    ")\n",
    "\n",
    "#Train the Model\n",
    "from transformers import Trainer\n",
    "\n",
    "trainer = Trainer(\n",
    "    model=model,\n",
    "    args=training_args,\n",
    "    train_dataset=datasets[\"train\"],\n",
    "    eval_dataset=datasets[\"validation\"],\n",
    "    data_collator=data_collator,\n",
    ")\n",
    "\n",
    "# Start training\n",
    "trainer.train()"
   ]
  },
  {
   "cell_type": "code",
   "execution_count": 44,
   "id": "6dc6ebe6-aebf-444c-98f9-7e192da57d13",
   "metadata": {},
   "outputs": [
    {
     "name": "stdin",
     "output_type": "stream",
     "text": [
      "Please type 'Easy' or 'Hard' to generate a clue:  Easy\n"
     ]
    },
    {
     "name": "stdout",
     "output_type": "stream",
     "text": [
      "Generated Easy clue: They didn’t divide Mandela here, but he lived in our South African “burg” just south of Pretoria.\n"
     ]
    },
    {
     "name": "stdin",
     "output_type": "stream",
     "text": [
      "Which city is this clue referring to?  \n"
     ]
    },
    {
     "name": "stdout",
     "output_type": "stream",
     "text": [
      "Try again! The correct city was Johannesburg.\n"
     ]
    }
   ],
   "source": [
    "import torch\n",
    "from transformers import GPT2Tokenizer, GPT2LMHeadModel\n",
    "import random\n",
    "\n",
    "# Load GPT-2 tokenizer and model\n",
    "device = torch.device(\"cpu\")\n",
    "tokenizer = GPT2Tokenizer.from_pretrained(\"gpt2\")\n",
    "model = GPT2LMHeadModel.from_pretrained(\"gpt2\")\n",
    "model = model.to(device)\n",
    "\n",
    "# Function to check if a city has a clue in the clues dataset\n",
    "def check_city_in_clue_dataset(city_name, clues_data):\n",
    "    return city_name in clues_data['train']['City']\n",
    "\n",
    "# Function to randomly pick a city (from the clues dataset or world cities dataset)\n",
    "def get_random_city(level_data, cities_data):\n",
    "    if random.random() < 0.5:  # 50% chance to pick a city from the clues dataset\n",
    "        random_row = level_data['train'].shuffle(seed=random.randint(0, 1000)).select([0])[0]\n",
    "        return random_row['City'], random_row['Easy'], random_row['Hard'], True\n",
    "    else:  # 50% chance to pick a city from the world cities dataset\n",
    "        random_row = cities_data['train'].shuffle(seed=random.randint(0, 1000)).select([0])[0]\n",
    "        return random_row['city'], None, None, False\n",
    "\n",
    "\n",
    "# Get user input for difficulty (Easy or Hard)\n",
    "level = input(\"Please type 'Easy' or 'Hard' to generate a clue: \").capitalize()\n",
    "\n",
    "# Randomly select a city from both datasets\n",
    "random_city, easy_clue, hard_clue, has_clue = get_random_city(level_data, cities_data)\n",
    "\n",
    "\n",
    "# If the city has predefined clues, use them\n",
    "if has_clue:\n",
    "    if level == \"Easy\":\n",
    "        clue = easy_clue\n",
    "    elif level == \"Hard\":\n",
    "        clue = hard_clue\n",
    "    else:\n",
    "        print(\"Invalid difficulty level. Please enter 'Easy' or 'Hard'.\")\n",
    "        exit()\n",
    "\n",
    "# If the city doesn't have predefined clues, generate a clue using the model\n",
    "else:\n",
    "\n",
    "    internal_input_text = f\"Describe a {level} clue based on the city's cultural, geographic, or historical significance. Do not mention the city name.\"\n",
    "\n",
    "\n",
    "    # Tokenize the input and move it to the correct device\n",
    "    inputs = tokenizer(internal_input_text, return_tensors=\"pt\").to(device)\n",
    "\n",
    "    # Generate the clue\n",
    "    outputs = model.generate(\n",
    "        inputs.input_ids, \n",
    "        attention_mask=inputs.attention_mask,  # Pass the attention mask\n",
    "        max_length=50,  # Adjust this if you want longer/shorter clues\n",
    "        num_return_sequences=1,\n",
    "        temperature=0.6,  # Lower temperature for more focused results\n",
    "        top_p=0.9,  # Use nucleus sampling to reduce repetition\n",
    "        pad_token_id=tokenizer.eos_token_id  # Set pad_token_id to the EOS token id\n",
    "    )\n",
    "\n",
    "    # Decode and print the generated clue (without mentioning the city)\n",
    "    generated_clue = tokenizer.decode(outputs[0], skip_special_tokens=True)\n",
    "    clue = generated_clue\n",
    "\n",
    "# Print the generated clue without mentioning the city\n",
    "print(f\"Generated {level} clue: {clue}\")\n",
    "\n",
    "\n",
    "# Now, ask the user to guess the city\n",
    "user_guess = input(\"Which city is this clue referring to? \")\n",
    "\n",
    "# Check if the user's guess matches the hidden city\n",
    "if user_guess.lower() == random_city.lower():\n",
    "    print(\"Success!\")\n",
    "else:\n",
    "    print(f\"Try again! The correct city was {random_city}.\")"
   ]
  }
 ],
 "metadata": {
  "kernelspec": {
   "display_name": "gpt2_env",
   "language": "python",
   "name": "gpt2_env"
  },
  "language_info": {
   "codemirror_mode": {
    "name": "ipython",
    "version": 3
   },
   "file_extension": ".py",
   "mimetype": "text/x-python",
   "name": "python",
   "nbconvert_exporter": "python",
   "pygments_lexer": "ipython3",
   "version": "3.10.11"
  }
 },
 "nbformat": 4,
 "nbformat_minor": 5
}
